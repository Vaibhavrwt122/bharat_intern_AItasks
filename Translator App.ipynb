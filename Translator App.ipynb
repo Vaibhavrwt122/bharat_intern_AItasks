{
 "cells": [
  {
   "cell_type": "markdown",
   "id": "7963a624",
   "metadata": {},
   "source": [
    "# BHARAT INTERN ARTIFICIAL INTELLIGENCE INTERNSHIP"
   ]
  },
  {
   "cell_type": "markdown",
   "id": "88f48057",
   "metadata": {},
   "source": [
    "# TRANSLATOR APP"
   ]
  },
  {
   "cell_type": "markdown",
   "id": "da6b332d",
   "metadata": {},
   "source": [
    "### BY VAIBHAV SINGH RAWAT"
   ]
  },
  {
   "cell_type": "code",
   "execution_count": 1,
   "id": "7216fbaf",
   "metadata": {},
   "outputs": [
    {
     "name": "stdout",
     "output_type": "stream",
     "text": [
      "Collecting googletrans==4.0.0-rc1\n",
      "  Downloading googletrans-4.0.0rc1.tar.gz (20 kB)\n",
      "  Preparing metadata (setup.py): started\n",
      "  Preparing metadata (setup.py): finished with status 'done'\n",
      "Collecting httpx==0.13.3 (from googletrans==4.0.0-rc1)\n",
      "  Downloading httpx-0.13.3-py3-none-any.whl (55 kB)\n",
      "     ---------------------------------------- 0.0/55.1 kB ? eta -:--:--\n",
      "     ---------------------------------------- 55.1/55.1 kB 1.4 MB/s eta 0:00:00\n",
      "Requirement already satisfied: certifi in d:\\anaconda\\lib\\site-packages (from httpx==0.13.3->googletrans==4.0.0-rc1) (2023.7.22)\n",
      "Collecting hstspreload (from httpx==0.13.3->googletrans==4.0.0-rc1)\n",
      "  Downloading hstspreload-2023.1.1-py3-none-any.whl (1.5 MB)\n",
      "     ---------------------------------------- 0.0/1.5 MB ? eta -:--:--\n",
      "     --- ------------------------------------ 0.2/1.5 MB 3.1 MB/s eta 0:00:01\n",
      "     ------ --------------------------------- 0.3/1.5 MB 3.2 MB/s eta 0:00:01\n",
      "     ----------- ---------------------------- 0.5/1.5 MB 3.5 MB/s eta 0:00:01\n",
      "     --------------- ------------------------ 0.6/1.5 MB 3.5 MB/s eta 0:00:01\n",
      "     -------------------- ------------------- 0.8/1.5 MB 3.9 MB/s eta 0:00:01\n",
      "     ----------------------- ---------------- 0.9/1.5 MB 3.3 MB/s eta 0:00:01\n",
      "     -------------------------------- ------- 1.2/1.5 MB 4.0 MB/s eta 0:00:01\n",
      "     ---------------------------------------  1.5/1.5 MB 4.3 MB/s eta 0:00:01\n",
      "     ---------------------------------------- 1.5/1.5 MB 3.9 MB/s eta 0:00:00\n",
      "Requirement already satisfied: sniffio in d:\\anaconda\\lib\\site-packages (from httpx==0.13.3->googletrans==4.0.0-rc1) (1.2.0)\n",
      "Collecting chardet==3.* (from httpx==0.13.3->googletrans==4.0.0-rc1)\n",
      "  Downloading chardet-3.0.4-py2.py3-none-any.whl (133 kB)\n",
      "     ---------------------------------------- 0.0/133.4 kB ? eta -:--:--\n",
      "     -------------------------------------- 133.4/133.4 kB 3.8 MB/s eta 0:00:00\n",
      "Collecting idna==2.* (from httpx==0.13.3->googletrans==4.0.0-rc1)\n",
      "  Downloading idna-2.10-py2.py3-none-any.whl (58 kB)\n",
      "     ---------------------------------------- 0.0/58.8 kB ? eta -:--:--\n",
      "     ---------------------------------------- 58.8/58.8 kB 3.2 MB/s eta 0:00:00\n",
      "Collecting rfc3986<2,>=1.3 (from httpx==0.13.3->googletrans==4.0.0-rc1)\n",
      "  Downloading rfc3986-1.5.0-py2.py3-none-any.whl (31 kB)\n",
      "Collecting httpcore==0.9.* (from httpx==0.13.3->googletrans==4.0.0-rc1)\n",
      "  Downloading httpcore-0.9.1-py3-none-any.whl (42 kB)\n",
      "     ---------------------------------------- 0.0/42.6 kB ? eta -:--:--\n",
      "     ---------------------------------------- 42.6/42.6 kB 2.0 MB/s eta 0:00:00\n",
      "Collecting h11<0.10,>=0.8 (from httpcore==0.9.*->httpx==0.13.3->googletrans==4.0.0-rc1)\n",
      "  Downloading h11-0.9.0-py2.py3-none-any.whl (53 kB)\n",
      "     ---------------------------------------- 0.0/53.6 kB ? eta -:--:--\n",
      "     ---------------------------------------- 53.6/53.6 kB 2.7 MB/s eta 0:00:00\n",
      "Collecting h2==3.* (from httpcore==0.9.*->httpx==0.13.3->googletrans==4.0.0-rc1)\n",
      "  Downloading h2-3.2.0-py2.py3-none-any.whl (65 kB)\n",
      "     ---------------------------------------- 0.0/65.0 kB ? eta -:--:--\n",
      "     ---------------------------------------- 65.0/65.0 kB 3.7 MB/s eta 0:00:00\n",
      "Collecting hyperframe<6,>=5.2.0 (from h2==3.*->httpcore==0.9.*->httpx==0.13.3->googletrans==4.0.0-rc1)\n",
      "  Downloading hyperframe-5.2.0-py2.py3-none-any.whl (12 kB)\n",
      "Collecting hpack<4,>=3.0 (from h2==3.*->httpcore==0.9.*->httpx==0.13.3->googletrans==4.0.0-rc1)\n",
      "  Downloading hpack-3.0.0-py2.py3-none-any.whl (38 kB)\n",
      "Building wheels for collected packages: googletrans\n",
      "  Building wheel for googletrans (setup.py): started\n",
      "  Building wheel for googletrans (setup.py): finished with status 'done'\n",
      "  Created wheel for googletrans: filename=googletrans-4.0.0rc1-py3-none-any.whl size=17461 sha256=23c1d59656c7f5af50706f493d3a698c51d4e7603c70c112439e175c77b5e2c2\n",
      "  Stored in directory: c:\\users\\vaibh\\appdata\\local\\pip\\cache\\wheels\\39\\17\\6f\\66a045ea3d168826074691b4b787b8f324d3f646d755443fda\n",
      "Successfully built googletrans\n",
      "Installing collected packages: rfc3986, hyperframe, hpack, h11, chardet, idna, hstspreload, h2, httpcore, httpx, googletrans\n",
      "  Attempting uninstall: chardet\n",
      "    Found existing installation: chardet 4.0.0\n",
      "    Uninstalling chardet-4.0.0:\n",
      "      Successfully uninstalled chardet-4.0.0\n",
      "  Attempting uninstall: idna\n",
      "    Found existing installation: idna 3.4\n",
      "    Uninstalling idna-3.4:\n",
      "      Successfully uninstalled idna-3.4\n",
      "Successfully installed chardet-3.0.4 googletrans-4.0.0rc1 h11-0.9.0 h2-3.2.0 hpack-3.0.0 hstspreload-2023.1.1 httpcore-0.9.1 httpx-0.13.3 hyperframe-5.2.0 idna-2.10 rfc3986-1.5.0\n"
     ]
    },
    {
     "name": "stderr",
     "output_type": "stream",
     "text": [
      "ERROR: pip's dependency resolver does not currently take into account all the packages that are installed. This behaviour is the source of the following dependency conflicts.\n",
      "transformers 2.1.1 requires sentencepiece, which is not installed.\n"
     ]
    }
   ],
   "source": [
    "get_ipython().system('pip install googletrans==4.0.0-rc1')"
   ]
  },
  {
   "cell_type": "code",
   "execution_count": 2,
   "id": "c59b0fe0",
   "metadata": {},
   "outputs": [
    {
     "name": "stdout",
     "output_type": "stream",
     "text": [
      "Language Translator App\n",
      "Supported Languages:\n",
      "English: en, Spanish: es, French: fr, German: de, Hindi: hi, Chinese: zh-CN\n",
      "Enter the source language code (e.g., en for English): en\n",
      "Enter the destination language code (e.g., fr for French): es\n",
      "Enter the text to translate: i live here\n",
      "Translated Text:\n",
      "yo vivo aqui\n"
     ]
    }
   ],
   "source": [
    "from googletrans import Translator\n",
    "\n",
    "def translate_text(text, src_lang, dest_lang):\n",
    "    translator = Translator()\n",
    "    translation = translator.translate(text, src=src_lang, dest=dest_lang)\n",
    "    return translation.text\n",
    "\n",
    "def main():\n",
    "    print(\"Language Translator App\")\n",
    "    print(\"Supported Languages:\")\n",
    "    print(\"English: en, Spanish: es, French: fr, German: de, Hindi: hi, Chinese: zh-CN\")\n",
    "    \n",
    "    src_lang = input(\"Enter the source language code (e.g., en for English): \")\n",
    "    dest_lang = input(\"Enter the destination language code (e.g., fr for French): \")\n",
    "    text_to_translate = input(\"Enter the text to translate: \")\n",
    "\n",
    "    translated_text = translate_text(text_to_translate, src_lang, dest_lang)\n",
    "    print(\"Translated Text:\")\n",
    "    print(translated_text)\n",
    "\n",
    "if __name__ == \"__main__\":\n",
    "    main()"
   ]
  },
  {
   "cell_type": "markdown",
   "id": "922776e3",
   "metadata": {},
   "source": [
    "# Thank you"
   ]
  },
  {
   "cell_type": "code",
   "execution_count": null,
   "id": "2ed471eb",
   "metadata": {},
   "outputs": [],
   "source": []
  }
 ],
 "metadata": {
  "kernelspec": {
   "display_name": "Python 3 (ipykernel)",
   "language": "python",
   "name": "python3"
  },
  "language_info": {
   "codemirror_mode": {
    "name": "ipython",
    "version": 3
   },
   "file_extension": ".py",
   "mimetype": "text/x-python",
   "name": "python",
   "nbconvert_exporter": "python",
   "pygments_lexer": "ipython3",
   "version": "3.11.4"
  }
 },
 "nbformat": 4,
 "nbformat_minor": 5
}
