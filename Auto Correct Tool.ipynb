{
 "cells": [
  {
   "cell_type": "markdown",
   "id": "1b186b6d",
   "metadata": {},
   "source": [
    "# Bharat Intern Artifical Intelligence Internship"
   ]
  },
  {
   "cell_type": "markdown",
   "id": "56973b2d",
   "metadata": {},
   "source": [
    "# TASK 2: AUTO CORRECT TOOL"
   ]
  },
  {
   "cell_type": "markdown",
   "id": "3d0b2e92",
   "metadata": {},
   "source": [
    "## BY VAIBHAV SINGH RAWAT"
   ]
  },
  {
   "cell_type": "code",
   "execution_count": 4,
   "id": "70dc755f",
   "metadata": {},
   "outputs": [],
   "source": [
    "import nltk\n",
    "from nltk.corpus import words\n",
    "from nltk.metrics.distance import edit_distance"
   ]
  },
  {
   "cell_type": "markdown",
   "id": "d47981d6",
   "metadata": {},
   "source": [
    "## Download NLTK resources (if not already downloaded)"
   ]
  },
  {
   "cell_type": "code",
   "execution_count": 5,
   "id": "4601a8b0",
   "metadata": {},
   "outputs": [
    {
     "name": "stderr",
     "output_type": "stream",
     "text": [
      "[nltk_data] Downloading package words to\n",
      "[nltk_data]     C:\\Users\\vaibh\\AppData\\Roaming\\nltk_data...\n",
      "[nltk_data]   Unzipping corpora\\words.zip.\n"
     ]
    },
    {
     "data": {
      "text/plain": [
       "True"
      ]
     },
     "execution_count": 5,
     "metadata": {},
     "output_type": "execute_result"
    }
   ],
   "source": [
    "nltk.download('words')"
   ]
  },
  {
   "cell_type": "markdown",
   "id": "25c050bf",
   "metadata": {},
   "source": [
    "# Load the English words corpus "
   ]
  },
  {
   "cell_type": "code",
   "execution_count": 6,
   "id": "4b819009",
   "metadata": {},
   "outputs": [
    {
     "name": "stdout",
     "output_type": "stream",
     "text": [
      "Enter a word (type 'exit' to stop): WOSH\n",
      "Input Word: WOSH\n",
      "Corrected Word: tosh\n",
      "Enter a word (type 'exit' to stop): LOS\n",
      "Input Word: LOS\n",
      "Corrected Word: Jos\n",
      "Enter a word (type 'exit' to stop): exit\n"
     ]
    }
   ],
   "source": [
    "english_words = set(words.words())\n",
    "def auto_correct(word):\n",
    "    word = word.lower()  \n",
    "    if word in english_words:\n",
    "        return word\n",
    "    # Find the closest word using edit distance\n",
    "    min_distance = float('inf')\n",
    "    closest_word = None\n",
    "\n",
    "    for w in english_words:\n",
    "        distance = edit_distance(word, w)\n",
    "        if distance < min_distance:\n",
    "            min_distance = distance\n",
    "            closest_word = w\n",
    "    return closest_word\n",
    "while True:\n",
    "    input_word = input(\"Enter a word (type 'exit' to stop): \")\n",
    "\n",
    "    if input_word.lower() == 'exit':\n",
    "        break\n",
    "    corrected_word = auto_correct(input_word)\n",
    "    print(\"Input Word:\", input_word)\n",
    "    print(\"Corrected Word:\", corrected_word)"
   ]
  },
  {
   "cell_type": "markdown",
   "id": "b58ecb21",
   "metadata": {},
   "source": [
    "# Thank you"
   ]
  },
  {
   "cell_type": "code",
   "execution_count": null,
   "id": "46b3b15b",
   "metadata": {},
   "outputs": [],
   "source": []
  },
  {
   "cell_type": "code",
   "execution_count": null,
   "id": "82dd1ff9",
   "metadata": {},
   "outputs": [],
   "source": []
  }
 ],
 "metadata": {
  "kernelspec": {
   "display_name": "Python 3 (ipykernel)",
   "language": "python",
   "name": "python3"
  },
  "language_info": {
   "codemirror_mode": {
    "name": "ipython",
    "version": 3
   },
   "file_extension": ".py",
   "mimetype": "text/x-python",
   "name": "python",
   "nbconvert_exporter": "python",
   "pygments_lexer": "ipython3",
   "version": "3.11.4"
  }
 },
 "nbformat": 4,
 "nbformat_minor": 5
}
